{
 "cells": [
  {
   "cell_type": "code",
   "execution_count": 3,
   "id": "atomic-corner",
   "metadata": {},
   "outputs": [],
   "source": [
    "import pandas as pd\n",
    "import numpy as np\n",
    "import statsmodels.api as sm\n",
    "import matplotlib.pyplot as plt"
   ]
  },
  {
   "cell_type": "code",
   "execution_count": 4,
   "id": "wrapped-korean",
   "metadata": {},
   "outputs": [
    {
     "data": {
      "text/html": [
       "<div>\n",
       "<style scoped>\n",
       "    .dataframe tbody tr th:only-of-type {\n",
       "        vertical-align: middle;\n",
       "    }\n",
       "\n",
       "    .dataframe tbody tr th {\n",
       "        vertical-align: top;\n",
       "    }\n",
       "\n",
       "    .dataframe thead th {\n",
       "        text-align: right;\n",
       "    }\n",
       "</style>\n",
       "<table border=\"1\" class=\"dataframe\">\n",
       "  <thead>\n",
       "    <tr style=\"text-align: right;\">\n",
       "      <th></th>\n",
       "      <th>age,n,alcohol-use,alcohol-frequency,marijuana-use,marijuana-frequency,cocaine-use,cocaine-frequency,crack-use,crack-frequency,heroin-use,heroin-frequency,hallucinogen-use,hallucinogen-frequency,inhalant-use,inhalant-frequency,pain-releiver-use,pain-releiver-frequency,oxycontin-use,oxycontin-frequency,tranquilizer-use,tranquilizer-frequency,stimulant-use,stimulant-frequency,meth-use,meth-frequency,sedative-use,sedative-frequency</th>\n",
       "    </tr>\n",
       "  </thead>\n",
       "  <tbody>\n",
       "    <tr>\n",
       "      <th>0</th>\n",
       "      <td>12,2798,3.9,3,1.1,4,0.1,5,0,-,0.1,35.5,0.2,52,...</td>\n",
       "    </tr>\n",
       "    <tr>\n",
       "      <th>1</th>\n",
       "      <td>13,2757,8.5,6,3.4,15,0.1,1,0,3,0,-,0.6,6,2.5,1...</td>\n",
       "    </tr>\n",
       "    <tr>\n",
       "      <th>2</th>\n",
       "      <td>14,2792,18.1,5,8.7,24,0.1,5.5,0,-,0.1,2,1.6,3,...</td>\n",
       "    </tr>\n",
       "    <tr>\n",
       "      <th>3</th>\n",
       "      <td>15,2956,29.2,6,14.5,25,0.5,4,0.1,9.5,0.2,1,2.1...</td>\n",
       "    </tr>\n",
       "    <tr>\n",
       "      <th>4</th>\n",
       "      <td>16,3058,40.1,10,22.5,30,1,7,0,1,0.1,66.5,3.4,3...</td>\n",
       "    </tr>\n",
       "  </tbody>\n",
       "</table>\n",
       "</div>"
      ],
      "text/plain": [
       "  age,n,alcohol-use,alcohol-frequency,marijuana-use,marijuana-frequency,cocaine-use,cocaine-frequency,crack-use,crack-frequency,heroin-use,heroin-frequency,hallucinogen-use,hallucinogen-frequency,inhalant-use,inhalant-frequency,pain-releiver-use,pain-releiver-frequency,oxycontin-use,oxycontin-frequency,tranquilizer-use,tranquilizer-frequency,stimulant-use,stimulant-frequency,meth-use,meth-frequency,sedative-use,sedative-frequency\n",
       "0  12,2798,3.9,3,1.1,4,0.1,5,0,-,0.1,35.5,0.2,52,...                                                                                                                                                                                                                                                                                                                                                                                             \n",
       "1  13,2757,8.5,6,3.4,15,0.1,1,0,3,0,-,0.6,6,2.5,1...                                                                                                                                                                                                                                                                                                                                                                                             \n",
       "2  14,2792,18.1,5,8.7,24,0.1,5.5,0,-,0.1,2,1.6,3,...                                                                                                                                                                                                                                                                                                                                                                                             \n",
       "3  15,2956,29.2,6,14.5,25,0.5,4,0.1,9.5,0.2,1,2.1...                                                                                                                                                                                                                                                                                                                                                                                             \n",
       "4  16,3058,40.1,10,22.5,30,1,7,0,1,0.1,66.5,3.4,3...                                                                                                                                                                                                                                                                                                                                                                                             "
      ]
     },
     "execution_count": 4,
     "metadata": {},
     "output_type": "execute_result"
    }
   ],
   "source": [
    "data = pd.read_csv(\"drug-use-by-age.csv\", sep='\\n')\n",
    "data.head()\n",
    "print(\"RayoBELI\")"
   ]
  },
  {
   "cell_type": "code",
   "execution_count": null,
   "id": "featured-tobacco",
   "metadata": {},
   "outputs": [],
   "source": []
  }
 ],
 "metadata": {
  "kernelspec": {
   "display_name": "Python 3",
   "language": "python",
   "name": "python3"
  },
  "language_info": {
   "codemirror_mode": {
    "name": "ipython",
    "version": 3
   },
   "file_extension": ".py",
   "mimetype": "text/x-python",
   "name": "python",
   "nbconvert_exporter": "python",
   "pygments_lexer": "ipython3",
   "version": "3.8.6"
  }
 },
 "nbformat": 4,
 "nbformat_minor": 5
}
